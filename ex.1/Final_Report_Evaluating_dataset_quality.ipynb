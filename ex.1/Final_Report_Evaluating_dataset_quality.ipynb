{
 "cells": [
  {
   "cell_type": "markdown",
   "metadata": {},
   "source": [
    "\n",
    "Classification Dataset Analysis\n",
    "We used YData-Profiling, Sweetviz, and Phik Matrix to perform an in-depth exploratory data analysis (EDA) of the classification dataset.\n",
    "\n",
    "Key Findings\n",
    "Target Imbalance\n",
    "\n",
    "The target variable pet_has_active_subscription had a mild imbalance (~60/40 split).\n",
    "\n",
    "This finding led to the use of SMOTE and TomekLinks in Exercise 2 to balance the dataset.\n",
    "\n",
    "Dominant Food Preferences\n",
    "\n",
    "61% of pets did not consume wet food (ate_wet_food_pre_tails = 0)\n",
    "\n",
    "87% of pets consumed premium dry food.\n",
    "\n",
    "These were identified as highly important features for predicting subscription activity.\n",
    "\n",
    "Behavioral Features\n",
    "\n",
    "Features like total_web_sessions, total_web_sessions_since_last_order, and total_minutes_on_website were consistently higher among subscribed pets.\n",
    "\n",
    "These behavioral indicators later guided the creation of interaction features (e.g., total_engagement) in Exercise 3.\n",
    "\n",
    "Phik Matrix Correlations\n",
    "\n",
    "total_order_kcal, neutered, and web activity features showed strong non-linear correlations with the target.\n",
    "\n",
    "Low-correlation features like signup_promo and pet_allergen_list were later dropped during variable selection in Exercise 3.\n"
   ]
  },
  {
   "cell_type": "markdown",
   "metadata": {},
   "source": [
    "Regression Dataset Analysis\n",
    "We used YData-Profiling, Sweetviz, Phik Matrix, and Yellowbrick for the regression dataset ship_fuel_efficiency_numeric.csv.\n",
    "\n",
    "Key Findings\n",
    "Skewed Target Distribution\n",
    "\n",
    "fuel_consumption was highly right-skewed and had extreme outliers.\n",
    "\n",
    "This prompted the use of log1p transformation, IQR, and Isolation Forest in Exercise 2 to normalize and clean the data.\n",
    "\n",
    "Strong Correlations\n",
    "\n",
    "CO2_emissions had a very high linear and phik correlation with fuel_consumption (likely multicollinearity).\n",
    "\n",
    "This relationship influenced the decision to test VIF and possibly drop CO2_emissions in Exercise 3.\n",
    "\n",
    "Operational Pattern Detection\n",
    "\n",
    "High fuel_consumption combined with short distance suggested outlier ships or inefficient routes.\n",
    "\n",
    "These insights later motivated the creation of ratio features like fuel_per_distance.\n",
    "\n",
    "Yellowbrick Residuals\n",
    "\n",
    "Preliminary model residual plots showed poor fit due to skewness and noise.\n",
    "\n",
    "Supported the need for outlier management and transformation in future optimization."
   ]
  }
 ],
 "metadata": {
  "language_info": {
   "name": "python"
  }
 },
 "nbformat": 4,
 "nbformat_minor": 2
}
