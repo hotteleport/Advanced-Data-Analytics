{
 "cells": [
  {
   "cell_type": "code",
   "execution_count": 2,
   "metadata": {},
   "outputs": [
    {
     "data": {
      "application/vnd.jupyter.widget-view+json": {
       "model_id": "6b30ead968684a83b2d7e0afc571f9bc",
       "version_major": 2,
       "version_minor": 0
      },
      "text/plain": [
       "                                             |          | [  0%]   00:00 -> (? left)"
      ]
     },
     "metadata": {},
     "output_type": "display_data"
    },
    {
     "name": "stdout",
     "output_type": "stream",
     "text": [
      "Report report_PETFOOD.html was generated! NOTEBOOK/COLAB USERS: the web browser MAY not pop up, regardless, the report IS saved in your notebook/colab files.\n"
     ]
    }
   ],
   "source": [
    "import sweetviz as sv\n",
    "import pandas as pd\n",
    "\n",
    "data = pd.read_csv('final_pet_food_dataset.csv')\n",
    "report = sv.analyze(data)\n",
    "report.show_html('report_PETFOOD.html')"
   ]
  },
  {
   "cell_type": "markdown",
   "metadata": {},
   "source": [
    "Key Insights from AutoViz "
   ]
  },
  {
   "cell_type": "markdown",
   "metadata": {},
   "source": [
    "1.\tWet Food Order History (wet_food_order_number)\n",
    "o 61% of pets (7,981) have never ordered wet food (value = 0).\n",
    "o 39% of pets (5,106) have placed at least one wet food order (value = 1).\n",
    "o This indicates that wet food adoption is relatively low, presenting a strong opportunity for growth in this category.\n",
    "2.\tActive Subscription Status (pet_has_active_subscription)\n",
    "o 60.4% of pets (7,907) have an active subscription (value = 1).\n",
    "o 39.6% (5,180) do not have an active subscription (value = 0).\n",
    "o This suggests that a large portion of customers are not currently engaged with recurring services.\n",
    "3.\tPet Food Tier (pet_food_tier)\n",
    "o 77.4% of pets (10,131) are in Tier 1 (value = 1), likely representing premium or full-service plans.\n",
    "o 22.6% (2,956) are in Tier 0 (value = 0), likely basic plans.\n",
    "o This indicates a substantial upgrade opportunity from basic to premium product tiers.\n",
    "4.\tPet Allergen List (pet_allergen_list)\n",
    "o 76.2% of pets (9,974) do not have any recorded allergens (value = 0).\n",
    "o 23.8% (3,113) have at least one allergen (value = 1).\n",
    "o This suggests that almost one in four pets may require specialized or hypoallergenic food products.\n",
    "5.\tPet Favourite Flavour List (pet_fav_flavour_list)\n",
    "o 58% of pets (7,591) have no recorded flavour preference (value = 0).\n",
    "o 42% (5,496) have a defined favourite flavour (value = 1).\n",
    "o This presents a personalization opportunity through flavour-based product recommendations.\n",
    "6.\tPet Health Issue List (pet_health_issue_list)\n",
    "o 52.1% of pets (6,823) have no recorded health issues (value = 0).\n",
    "o 47.9% (6,264) have at least one health concern (value = 1).\n",
    "o This shows that nearly half of the pet population may benefit from functional nutrition targeting specific health needs.\n",
    "7.\tNeutered Status (neutered)\n",
    "o 52.7% of pets (6,895) are neutered (value = 1).\n",
    "o 47.3% (6,192) are not neutered (value = 0).\n",
    "o This balanced distribution can be used for segmentation and behavior-based product targeting.\n",
    "8.\tGender (gender)\n",
    "o 54.4% of pets (7,121) are female (value = 2).\n",
    "o 45.6% (5,966) are male (value = 1).\n",
    "o Gender distribution is nearly even, but may be useful for fine-tuned communication and marketing.\n"
   ]
  },
  {
   "cell_type": "markdown",
   "metadata": {},
   "source": []
  }
 ],
 "metadata": {
  "kernelspec": {
   "display_name": "Python 3",
   "language": "python",
   "name": "python3"
  },
  "language_info": {
   "codemirror_mode": {
    "name": "ipython",
    "version": 3
   },
   "file_extension": ".py",
   "mimetype": "text/x-python",
   "name": "python",
   "nbconvert_exporter": "python",
   "pygments_lexer": "ipython3",
   "version": "3.9.13"
  }
 },
 "nbformat": 4,
 "nbformat_minor": 2
}
