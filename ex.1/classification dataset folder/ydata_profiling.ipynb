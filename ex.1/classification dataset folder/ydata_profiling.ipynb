{
 "cells": [
  {
   "cell_type": "code",
   "execution_count": 2,
   "metadata": {},
   "outputs": [
    {
     "data": {
      "application/vnd.jupyter.widget-view+json": {
       "model_id": "90f6b37b82a6476a9dac4729ffbfdb33",
       "version_major": 2,
       "version_minor": 0
      },
      "text/plain": [
       "Summarize dataset:   0%|          | 0/5 [00:00<?, ?it/s]"
      ]
     },
     "metadata": {},
     "output_type": "display_data"
    },
    {
     "data": {
      "application/vnd.jupyter.widget-view+json": {
       "model_id": "f45c3a3f830948c9bfd430c73cc798a7",
       "version_major": 2,
       "version_minor": 0
      },
      "text/plain": [
       "Generate report structure:   0%|          | 0/1 [00:00<?, ?it/s]"
      ]
     },
     "metadata": {},
     "output_type": "display_data"
    },
    {
     "data": {
      "application/vnd.jupyter.widget-view+json": {
       "model_id": "daacbb28132e4f4dbb193d872168a5ee",
       "version_major": 2,
       "version_minor": 0
      },
      "text/plain": [
       "Render HTML:   0%|          | 0/1 [00:00<?, ?it/s]"
      ]
     },
     "metadata": {},
     "output_type": "display_data"
    },
    {
     "data": {
      "application/vnd.jupyter.widget-view+json": {
       "model_id": "3bd2b509ec9b45be84a92ae15e735d0d",
       "version_major": 2,
       "version_minor": 0
      },
      "text/plain": [
       "Export report to file:   0%|          | 0/1 [00:00<?, ?it/s]"
      ]
     },
     "metadata": {},
     "output_type": "display_data"
    }
   ],
   "source": [
    "import pandas as pd\n",
    "from ydata_profiling import ProfileReport\n",
    "\n",
    "df = pd.read_csv(\"final_pet_food_dataset.csv\")\n",
    "profile = ProfileReport(df, explorative=True)\n",
    "profile.to_file(\"report.html\")\n"
   ]
  },
  {
   "cell_type": "markdown",
   "metadata": {},
   "source": [
    "Key Insights from Ydata-Profiling Report\n",
    "1.\tWet Food Consumption (ate_wet_food_pre_tails)\n",
    "o\tMajority (61%) of pets do not consume wet food (7,947 pets with 0 value).\n",
    "o\tAbout 39% of pets consume wet food (5,140 pets with 1 value).\n",
    "o\tThis indicates that dry food is the dominant choice among customers.\n",
    "2.\tDry Food Brand Preference (dry_food_brand_pre_tails)\n",
    "o\t87.3% of pets consume a premium dry food brand (11,426 pets with 1 value).\n",
    "o\tOnly 12.7% do not consume premium dry food (1,661 pets with 0 value).\n",
    "o\tThis suggests that premium dry food is highly preferred over regular brands.\n",
    "3.\tPet Life Stage at Order (pet_life_stage_at_order)\n",
    "o\tMajority of pets (83.4%) belong to group 1 (younger pets).\n",
    "o\tOnly 16.6% belong to group 2 (senior pets, 7+ years old).\n",
    "o\tThe business may consider targeting more products for senior pets to increase engagement in this segment.\n",
    "4.\tTotal Order Calories (total_order_kcal)\n",
    "o\tAverage order contains 77,910 kcal, but the distribution is highly skewed (some orders contain over 1 million kcal).\n",
    "o\tMinimum kcal order is 1,481 kcal, while the maximum is 1,077,041 kcal, suggesting some extreme purchasing behaviors.\n",
    "o\tThere are no missing values, zero values, or negative values, ensuring clean data for further analysis.\n",
    "o\tPotential next step: Investigate high-calorie orders to understand extreme buyers.\n",
    "\n"
   ]
  }
 ],
 "metadata": {
  "kernelspec": {
   "display_name": "Python 3",
   "language": "python",
   "name": "python3"
  },
  "language_info": {
   "codemirror_mode": {
    "name": "ipython",
    "version": 3
   },
   "file_extension": ".py",
   "mimetype": "text/x-python",
   "name": "python",
   "nbconvert_exporter": "python",
   "pygments_lexer": "ipython3",
   "version": "3.9.13"
  }
 },
 "nbformat": 4,
 "nbformat_minor": 2
}
