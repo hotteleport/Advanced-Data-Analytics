{
 "cells": [
  {
   "cell_type": "markdown",
   "metadata": {},
   "source": [
    "link to dataset: https://www.kaggle.com/datasets/jeleeladekunlefijabi/ship-fuel-consumption-and-co2-emissions-analysis"
   ]
  },
  {
   "cell_type": "code",
   "execution_count": 65,
   "metadata": {},
   "outputs": [
    {
     "name": "stdout",
     "output_type": "stream",
     "text": [
      "<class 'pandas.core.frame.DataFrame'>\n",
      "RangeIndex: 1440 entries, 0 to 1439\n",
      "Data columns (total 10 columns):\n",
      " #   Column              Non-Null Count  Dtype  \n",
      "---  ------              --------------  -----  \n",
      " 0   ship_id             1440 non-null   object \n",
      " 1   ship_type           1440 non-null   object \n",
      " 2   route_id            1440 non-null   object \n",
      " 3   month               1440 non-null   object \n",
      " 4   distance            1440 non-null   float64\n",
      " 5   fuel_type           1440 non-null   object \n",
      " 6   fuel_consumption    1440 non-null   float64\n",
      " 7   CO2_emissions       1440 non-null   float64\n",
      " 8   weather_conditions  1440 non-null   object \n",
      " 9   engine_efficiency   1440 non-null   float64\n",
      "dtypes: float64(4), object(6)\n",
      "memory usage: 112.6+ KB\n",
      "  ship_id         ship_type             route_id     month  distance  \\\n",
      "0   NG001  Oil Service Boat          Warri-Bonny   January    132.26   \n",
      "1   NG001  Oil Service Boat  Port Harcourt-Lagos  February    128.52   \n",
      "2   NG001  Oil Service Boat  Port Harcourt-Lagos     March     67.30   \n",
      "3   NG001  Oil Service Boat  Port Harcourt-Lagos     April     71.68   \n",
      "4   NG001  Oil Service Boat          Lagos-Apapa       May    134.32   \n",
      "\n",
      "  fuel_type  fuel_consumption  CO2_emissions weather_conditions  \\\n",
      "0       HFO           3779.77       10625.76             Stormy   \n",
      "1       HFO           4461.44       12779.73           Moderate   \n",
      "2       HFO           1867.73        5353.01               Calm   \n",
      "3    Diesel           2393.51        6506.52             Stormy   \n",
      "4       HFO           4267.19       11617.03               Calm   \n",
      "\n",
      "   engine_efficiency  \n",
      "0              92.14  \n",
      "1              92.98  \n",
      "2              87.61  \n",
      "3              87.42  \n",
      "4              85.61  \n"
     ]
    }
   ],
   "source": [
    "import pandas as pd\n",
    "from sklearn.preprocessing import LabelEncoder\n",
    "\n",
    "# Load the dataset\n",
    "file_path = \"ship_fuel_efficiency.csv\"  \n",
    "df = pd.read_csv(file_path)\n",
    "\n",
    "# This helps us understand the structure of the dataset\n",
    "# Display dataset info\n",
    "df.info()\n",
    "\n",
    "# Show the first few rows\n",
    "print(df.head())\n"
   ]
  },
  {
   "cell_type": "code",
   "execution_count": 66,
   "metadata": {},
   "outputs": [
    {
     "name": "stdout",
     "output_type": "stream",
     "text": [
      "ship_id                object\n",
      "ship_type              object\n",
      "route_id               object\n",
      "month                  object\n",
      "distance              float64\n",
      "fuel_type              object\n",
      "fuel_consumption      float64\n",
      "CO2_emissions         float64\n",
      "weather_conditions     object\n",
      "engine_efficiency     float64\n",
      "dtype: object\n",
      "Categorical columns: Index(['ship_id', 'ship_type', 'route_id', 'month', 'fuel_type',\n",
      "       'weather_conditions'],\n",
      "      dtype='object')\n"
     ]
    }
   ],
   "source": [
    "# Check data types of each column\n",
    "print(df.dtypes)\n",
    "\n",
    "# Identify columns with object (categorical) data\n",
    "categorical_columns = df.select_dtypes(include=['object']).columns\n",
    "print(\"Categorical columns:\", categorical_columns)\n"
   ]
  },
  {
   "cell_type": "code",
   "execution_count": 67,
   "metadata": {},
   "outputs": [
    {
     "name": "stdout",
     "output_type": "stream",
     "text": [
      "  ship_id  ship_id_numeric\n",
      "0   NG001                0\n",
      "1   NG001                0\n",
      "2   NG001                0\n",
      "3   NG001                0\n",
      "4   NG001                0\n"
     ]
    }
   ],
   "source": [
    "# Initialize Label Encoder for ship_id\n",
    "ship_id_encoder = LabelEncoder()\n",
    "\n",
    "# Convert ship_id to numeric values\n",
    "df[\"ship_id_numeric\"] = ship_id_encoder.fit_transform(df[\"ship_id\"])\n",
    "\n",
    "# Store the mapping of ship_id (original -> numeric)\n",
    "ship_id_mapping = dict(zip(df[\"ship_id\"], df[\"ship_id_numeric\"]))\n",
    "\n",
    "# Display the first few rows to check the conversion\n",
    "print(df[[\"ship_id\", \"ship_id_numeric\"]].head())\n"
   ]
  },
  {
   "cell_type": "code",
   "execution_count": 68,
   "metadata": {},
   "outputs": [
    {
     "name": "stdout",
     "output_type": "stream",
     "text": [
      "['January' 'February' 'March' 'April' 'May' 'June' 'July' 'August'\n",
      " 'September' 'October' 'November' 'December']\n",
      "0\n"
     ]
    }
   ],
   "source": [
    "# Display unique values in the 'month' column\n",
    "print(df[\"month\"].unique())\n",
    "\n",
    "# Define mapping for month names\n",
    "month_mapping = {\n",
    "    \"January\": 1, \"February\": 2, \"March\": 3, \"April\": 4, \"May\": 5, \"June\": 6,\n",
    "    \"July\": 7, \"August\": 8, \"September\": 9, \"October\": 10, \"November\": 11, \"December\": 12\n",
    "}\n",
    "\n",
    "# Apply mapping\n",
    "df[\"month_numeric\"] = df[\"month\"].map(month_mapping)\n",
    "\n",
    "# Check if NaNs still exist\n",
    "print(df[\"month_numeric\"].isna().sum())\n"
   ]
  },
  {
   "cell_type": "code",
   "execution_count": 69,
   "metadata": {},
   "outputs": [
    {
     "name": "stdout",
     "output_type": "stream",
     "text": [
      "0\n",
      "      month  month_numeric\n",
      "0   January              1\n",
      "1  February              2\n",
      "2     March              3\n",
      "3     April              4\n",
      "4       May              5\n"
     ]
    }
   ],
   "source": [
    "# Remove any leading/trailing spaces in month names\n",
    "df[\"month\"] = df[\"month\"].str.strip()\n",
    "\n",
    "# Define correct mapping for month names\n",
    "month_mapping = {\n",
    "    \"January\": 1, \"February\": 2, \"March\": 3, \"April\": 4, \"May\": 5, \"June\": 6,\n",
    "    \"July\": 7, \"August\": 8, \"September\": 9, \"October\": 10, \"November\": 11, \"December\": 12\n",
    "}\n",
    "\n",
    "# Convert month names to numbers using mapping\n",
    "df[\"month_numeric\"] = df[\"month\"].map(month_mapping)\n",
    "\n",
    "# Check if any NaN values exist after conversion\n",
    "print(df[\"month_numeric\"].isna().sum())\n",
    "\n",
    "# Display first few rows to verify correct conversion\n",
    "print(df[[\"month\", \"month_numeric\"]].head())\n"
   ]
  },
  {
   "cell_type": "code",
   "execution_count": null,
   "metadata": {},
   "outputs": [
    {
     "name": "stdout",
     "output_type": "stream",
     "text": [
      "   ship_type  route_id  distance  fuel_type  fuel_consumption  CO2_emissions  \\\n",
      "0          1         3    132.26          1           3779.77       10625.76   \n",
      "1          1         2    128.52          1           4461.44       12779.73   \n",
      "2          1         2     67.30          1           1867.73        5353.01   \n",
      "3          1         2     71.68          0           2393.51        6506.52   \n",
      "4          1         1    134.32          1           4267.19       11617.03   \n",
      "\n",
      "   weather_conditions  engine_efficiency  ship_id_numeric  month_numeric  \n",
      "0                   2              92.14                0              1  \n",
      "1                   1              92.98                0              2  \n",
      "2                   0              87.61                0              3  \n",
      "3                   2              87.42                0              4  \n",
      "4                   0              85.61                0              5  \n"
     ]
    }
   ],
   "source": [
    "# Convert remaining categorical columns using Label Encoding\n",
    "label_encoders = {}\n",
    "for col in [\"ship_type\", \"fuel_type\", \"weather_conditions\", \"route_id\"]:\n",
    "    if col in df.columns:\n",
    "        le = LabelEncoder()\n",
    "        df[col] = le.fit_transform(df[col].astype(str))  # Convert to string to avoid errors\n",
    "        label_encoders[col] = le  # Store encoder for reference\n",
    "    else:\n",
    "        print(f\"Warning: '{col}' column not found, skipping encoding.\")\n",
    "\n",
    "# Drop original 'ship_id' and 'month' columns if no longer needed\n",
    "df.drop(columns=[\"ship_id\", \"month\"], errors=\"ignore\", inplace=True)\n",
    "print(df.head())"
   ]
  },
  {
   "cell_type": "code",
   "execution_count": 71,
   "metadata": {},
   "outputs": [
    {
     "name": "stdout",
     "output_type": "stream",
     "text": [
      "   ship_type  ship_id_numeric  month_numeric  ship_type  route_id  distance  \\\n",
      "0          1                0              1          1         3    132.26   \n",
      "1          1                0              2          1         2    128.52   \n",
      "2          1                0              3          1         2     67.30   \n",
      "3          1                0              4          1         2     71.68   \n",
      "4          1                0              5          1         1    134.32   \n",
      "\n",
      "   fuel_type  fuel_consumption  CO2_emissions  weather_conditions  \\\n",
      "0          1           3779.77       10625.76                   2   \n",
      "1          1           4461.44       12779.73                   1   \n",
      "2          1           1867.73        5353.01                   0   \n",
      "3          0           2393.51        6506.52                   2   \n",
      "4          1           4267.19       11617.03                   0   \n",
      "\n",
      "   engine_efficiency  \n",
      "0              92.14  \n",
      "1              92.98  \n",
      "2              87.61  \n",
      "3              87.42  \n",
      "4              85.61  \n"
     ]
    }
   ],
   "source": [
    "# Get the current column list\n",
    "columns = list(df.columns)\n",
    "\n",
    "# Define the new order\n",
    "new_order = [columns[0], \"ship_id_numeric\", \"month_numeric\"] + [col for col in columns if col not in [\"ship_id_numeric\", \"month_numeric\"]]\n",
    "\n",
    "# Reorder DataFrame\n",
    "df = df[new_order]\n",
    "\n",
    "# Display the updated column order\n",
    "print(df.head())\n"
   ]
  },
  {
   "cell_type": "code",
   "execution_count": null,
   "metadata": {},
   "outputs": [],
   "source": [
    "# Save the cleaned dataset\n",
    "df.to_csv(\"ship_fuel_efficiency_numeric.csv\", index=False)"
   ]
  }
 ],
 "metadata": {
  "kernelspec": {
   "display_name": "Python 3",
   "language": "python",
   "name": "python3"
  },
  "language_info": {
   "codemirror_mode": {
    "name": "ipython",
    "version": 3
   },
   "file_extension": ".py",
   "mimetype": "text/x-python",
   "name": "python",
   "nbconvert_exporter": "python",
   "pygments_lexer": "ipython3",
   "version": "3.9.13"
  }
 },
 "nbformat": 4,
 "nbformat_minor": 2
}
