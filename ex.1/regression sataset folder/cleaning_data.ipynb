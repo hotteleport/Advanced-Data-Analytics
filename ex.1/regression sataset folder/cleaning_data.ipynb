{
 "cells": [
  {
   "cell_type": "markdown",
   "metadata": {},
   "source": [
    "link to dataset: https://www.kaggle.com/datasets/jeleeladekunlefijabi/ship-fuel-consumption-and-co2-emissions-analysis"
   ]
  },
  {
   "cell_type": "code",
   "execution_count": 14,
   "metadata": {},
   "outputs": [
    {
     "name": "stdout",
     "output_type": "stream",
     "text": [
      "<class 'pandas.core.frame.DataFrame'>\n",
      "RangeIndex: 1440 entries, 0 to 1439\n",
      "Data columns (total 10 columns):\n",
      " #   Column              Non-Null Count  Dtype  \n",
      "---  ------              --------------  -----  \n",
      " 0   ship_id             1440 non-null   object \n",
      " 1   ship_type           1440 non-null   object \n",
      " 2   route_id            1440 non-null   object \n",
      " 3   month               1440 non-null   object \n",
      " 4   distance            1440 non-null   float64\n",
      " 5   fuel_type           1440 non-null   object \n",
      " 6   fuel_consumption    1440 non-null   float64\n",
      " 7   CO2_emissions       1440 non-null   float64\n",
      " 8   weather_conditions  1440 non-null   object \n",
      " 9   engine_efficiency   1440 non-null   float64\n",
      "dtypes: float64(4), object(6)\n",
      "memory usage: 112.6+ KB\n",
      "  ship_id         ship_type             route_id     month  distance  \\\n",
      "0   NG001  Oil Service Boat          Warri-Bonny   January    132.26   \n",
      "1   NG001  Oil Service Boat  Port Harcourt-Lagos  February    128.52   \n",
      "2   NG001  Oil Service Boat  Port Harcourt-Lagos     March     67.30   \n",
      "3   NG001  Oil Service Boat  Port Harcourt-Lagos     April     71.68   \n",
      "4   NG001  Oil Service Boat          Lagos-Apapa       May    134.32   \n",
      "\n",
      "  fuel_type  fuel_consumption  CO2_emissions weather_conditions  \\\n",
      "0       HFO           3779.77       10625.76             Stormy   \n",
      "1       HFO           4461.44       12779.73           Moderate   \n",
      "2       HFO           1867.73        5353.01               Calm   \n",
      "3    Diesel           2393.51        6506.52             Stormy   \n",
      "4       HFO           4267.19       11617.03               Calm   \n",
      "\n",
      "   engine_efficiency  \n",
      "0              92.14  \n",
      "1              92.98  \n",
      "2              87.61  \n",
      "3              87.42  \n",
      "4              85.61  \n"
     ]
    }
   ],
   "source": [
    "import pandas as pd\n",
    "from sklearn.preprocessing import LabelEncoder\n",
    "\n",
    "### Load the dataset\n",
    "file_path = \"ship_fuel_efficiency.csv\"  \n",
    "df = pd.read_csv(file_path)\n",
    "\n",
    "# This helps us understand the structure of the dataset\n",
    "# Display dataset info\n",
    "df.info()\n",
    "\n",
    "# Show the first few rows\n",
    "print(df.head())\n"
   ]
  },
  {
   "cell_type": "code",
   "execution_count": 15,
   "metadata": {},
   "outputs": [
    {
     "name": "stdout",
     "output_type": "stream",
     "text": [
      "ship_id                object\n",
      "ship_type              object\n",
      "route_id               object\n",
      "month                  object\n",
      "distance              float64\n",
      "fuel_type              object\n",
      "fuel_consumption      float64\n",
      "CO2_emissions         float64\n",
      "weather_conditions     object\n",
      "engine_efficiency     float64\n",
      "dtype: object\n",
      "Categorical columns: Index(['ship_id', 'ship_type', 'route_id', 'month', 'fuel_type',\n",
      "       'weather_conditions'],\n",
      "      dtype='object')\n"
     ]
    }
   ],
   "source": [
    "# Check data types of each column\n",
    "print(df.dtypes)\n",
    "\n",
    "# Identify columns with object (categorical) data\n",
    "categorical_columns = df.select_dtypes(include=['object']).columns\n",
    "print(\"Categorical columns:\", categorical_columns)\n"
   ]
  },
  {
   "cell_type": "code",
   "execution_count": 16,
   "metadata": {},
   "outputs": [
    {
     "name": "stdout",
     "output_type": "stream",
     "text": [
      "  ship_id  ship_id_numeric\n",
      "0   NG001                0\n",
      "1   NG001                0\n",
      "2   NG001                0\n",
      "3   NG001                0\n",
      "4   NG001                0\n"
     ]
    }
   ],
   "source": [
    "# Initialize Label Encoder for ship_id\n",
    "ship_id_encoder = LabelEncoder()\n",
    "\n",
    "# Convert ship_id to numeric values\n",
    "df[\"ship_id_numeric\"] = ship_id_encoder.fit_transform(df[\"ship_id\"])\n",
    "\n",
    "# Store the mapping of ship_id (original -> numeric)\n",
    "ship_id_mapping = dict(zip(df[\"ship_id\"], df[\"ship_id_numeric\"]))\n",
    "\n",
    "# Display the first few rows to check the conversion\n",
    "print(df[[\"ship_id\", \"ship_id_numeric\"]].head())\n"
   ]
  },
  {
   "cell_type": "code",
   "execution_count": 17,
   "metadata": {},
   "outputs": [
    {
     "name": "stdout",
     "output_type": "stream",
     "text": [
      "['January' 'February' 'March' 'April' 'May' 'June' 'July' 'August'\n",
      " 'September' 'October' 'November' 'December']\n",
      "0\n"
     ]
    }
   ],
   "source": [
    "# Display unique values in the 'month' column\n",
    "print(df[\"month\"].unique())\n",
    "\n",
    "# Define mapping for month names\n",
    "month_mapping = {\n",
    "    \"January\": 1, \"February\": 2, \"March\": 3, \"April\": 4, \"May\": 5, \"June\": 6,\n",
    "    \"July\": 7, \"August\": 8, \"September\": 9, \"October\": 10, \"November\": 11, \"December\": 12\n",
    "}\n",
    "\n",
    "# Apply mapping\n",
    "df[\"month_numeric\"] = df[\"month\"].map(month_mapping)\n",
    "\n",
    "# Check if NaNs still exist\n",
    "print(df[\"month_numeric\"].isna().sum())\n"
   ]
  },
  {
   "cell_type": "code",
   "execution_count": 18,
   "metadata": {},
   "outputs": [
    {
     "name": "stdout",
     "output_type": "stream",
     "text": [
      "0\n",
      "      month  month_numeric\n",
      "0   January              1\n",
      "1  February              2\n",
      "2     March              3\n",
      "3     April              4\n",
      "4       May              5\n"
     ]
    }
   ],
   "source": [
    "# Remove any leading/trailing spaces in month names\n",
    "df[\"month\"] = df[\"month\"].str.strip()\n",
    "\n",
    "# Define correct mapping for month names\n",
    "month_mapping = {\n",
    "    \"January\": 1, \"February\": 2, \"March\": 3, \"April\": 4, \"May\": 5, \"June\": 6,\n",
    "    \"July\": 7, \"August\": 8, \"September\": 9, \"October\": 10, \"November\": 11, \"December\": 12\n",
    "}\n",
    "\n",
    "# Convert month names to numbers using mapping\n",
    "df[\"month_numeric\"] = df[\"month\"].map(month_mapping)\n",
    "\n",
    "# Check if any NaN values exist after conversion\n",
    "print(df[\"month_numeric\"].isna().sum())\n",
    "\n",
    "# Display first few rows to verify correct conversion\n",
    "print(df[[\"month\", \"month_numeric\"]].head())\n"
   ]
  },
  {
   "cell_type": "code",
   "execution_count": 19,
   "metadata": {},
   "outputs": [
    {
     "name": "stdout",
     "output_type": "stream",
     "text": [
      "   ship_type  route_id  distance  fuel_type  fuel_consumption  CO2_emissions  \\\n",
      "0          1         3    132.26          1           3779.77       10625.76   \n",
      "1          1         2    128.52          1           4461.44       12779.73   \n",
      "2          1         2     67.30          1           1867.73        5353.01   \n",
      "3          1         2     71.68          0           2393.51        6506.52   \n",
      "4          1         1    134.32          1           4267.19       11617.03   \n",
      "\n",
      "   weather_conditions  engine_efficiency  ship_id_numeric  month_numeric  \n",
      "0                   2              92.14                0              1  \n",
      "1                   1              92.98                0              2  \n",
      "2                   0              87.61                0              3  \n",
      "3                   2              87.42                0              4  \n",
      "4                   0              85.61                0              5  \n"
     ]
    }
   ],
   "source": [
    "# Convert remaining categorical columns using Label Encoding\n",
    "label_encoders = {}\n",
    "for col in [\"ship_type\", \"fuel_type\", \"weather_conditions\", \"route_id\"]:\n",
    "    if col in df.columns:\n",
    "        le = LabelEncoder()\n",
    "        df[col] = le.fit_transform(df[col].astype(str))  # Convert to string to avoid errors\n",
    "        label_encoders[col] = le  # Store encoder for reference\n",
    "    else:\n",
    "        print(f\"Warning: '{col}' column not found, skipping encoding.\")\n",
    "\n",
    "# Drop original 'ship_id' and 'month' columns if no longer needed\n",
    "df.drop(columns=[\"ship_id\", \"month\"], errors=\"ignore\", inplace=True)\n",
    "print(df.head())"
   ]
  },
  {
   "cell_type": "code",
   "execution_count": 20,
   "metadata": {},
   "outputs": [
    {
     "name": "stdout",
     "output_type": "stream",
     "text": [
      "   ship_type  ship_id_numeric  month_numeric  ship_type  route_id  distance  \\\n",
      "0          1                0              1          1         3    132.26   \n",
      "1          1                0              2          1         2    128.52   \n",
      "2          1                0              3          1         2     67.30   \n",
      "3          1                0              4          1         2     71.68   \n",
      "4          1                0              5          1         1    134.32   \n",
      "\n",
      "   fuel_type  fuel_consumption  CO2_emissions  weather_conditions  \\\n",
      "0          1           3779.77       10625.76                   2   \n",
      "1          1           4461.44       12779.73                   1   \n",
      "2          1           1867.73        5353.01                   0   \n",
      "3          0           2393.51        6506.52                   2   \n",
      "4          1           4267.19       11617.03                   0   \n",
      "\n",
      "   engine_efficiency  \n",
      "0              92.14  \n",
      "1              92.98  \n",
      "2              87.61  \n",
      "3              87.42  \n",
      "4              85.61  \n"
     ]
    }
   ],
   "source": [
    "# Get the current column list\n",
    "columns = list(df.columns)\n",
    "\n",
    "# Define the new order\n",
    "new_order = [columns[0], \"ship_id_numeric\", \"month_numeric\"] + [col for col in columns if col not in [\"ship_id_numeric\", \"month_numeric\"]]\n",
    "\n",
    "# Reorder DataFrame\n",
    "df = df[new_order]\n",
    "\n",
    "# Display the updated column order\n",
    "print(df.head())\n"
   ]
  },
  {
   "cell_type": "code",
   "execution_count": null,
   "metadata": {},
   "outputs": [
    {
     "name": "stdout",
     "output_type": "stream",
     "text": [
      "Index(['ship_type', 'ship_id_numeric', 'month_numeric', 'route_id', 'distance',\n",
      "       'fuel_type', 'fuel_consumption', 'CO2_emissions', 'weather_conditions',\n",
      "       'engine_efficiency'],\n",
      "      dtype='object')\n"
     ]
    }
   ],
   "source": [
    "# Remove Columns with the Same Name\n",
    "df = df.loc[:, ~df.columns.duplicated()]\n",
    "print(df.columns)\n"
   ]
  },
  {
   "cell_type": "code",
   "execution_count": null,
   "metadata": {},
   "outputs": [],
   "source": [
    "# Save the cleaned dataset\n",
    "#df.to_csv(\"ship_fuel_efficiency_numeric.csv\", index=False)"
   ]
  },
  {
   "cell_type": "code",
   "execution_count": 23,
   "metadata": {},
   "outputs": [
    {
     "ename": "AttributeError",
     "evalue": "'Index' object has no attribute '_format_flat'",
     "output_type": "error",
     "traceback": [
      "\u001b[1;31m---------------------------------------------------------------------------\u001b[0m",
      "\u001b[1;31mAttributeError\u001b[0m                            Traceback (most recent call last)",
      "File \u001b[1;32m~\\AppData\\Roaming\\Python\\Python39\\site-packages\\IPython\\core\\formatters.py:344\u001b[0m, in \u001b[0;36mBaseFormatter.__call__\u001b[1;34m(self, obj)\u001b[0m\n\u001b[0;32m    342\u001b[0m     method \u001b[38;5;241m=\u001b[39m get_real_method(obj, \u001b[38;5;28mself\u001b[39m\u001b[38;5;241m.\u001b[39mprint_method)\n\u001b[0;32m    343\u001b[0m     \u001b[38;5;28;01mif\u001b[39;00m method \u001b[38;5;129;01mis\u001b[39;00m \u001b[38;5;129;01mnot\u001b[39;00m \u001b[38;5;28;01mNone\u001b[39;00m:\n\u001b[1;32m--> 344\u001b[0m         \u001b[38;5;28;01mreturn\u001b[39;00m \u001b[43mmethod\u001b[49m\u001b[43m(\u001b[49m\u001b[43m)\u001b[49m\n\u001b[0;32m    345\u001b[0m     \u001b[38;5;28;01mreturn\u001b[39;00m \u001b[38;5;28;01mNone\u001b[39;00m\n\u001b[0;32m    346\u001b[0m \u001b[38;5;28;01melse\u001b[39;00m:\n",
      "File \u001b[1;32mc:\\python\\lib\\site-packages\\pandas\\core\\frame.py:1106\u001b[0m, in \u001b[0;36mDataFrame._repr_html_\u001b[1;34m(self)\u001b[0m\n\u001b[0;32m   1084\u001b[0m     show_dimensions \u001b[38;5;241m=\u001b[39m get_option(\u001b[38;5;124m\"\u001b[39m\u001b[38;5;124mdisplay.show_dimensions\u001b[39m\u001b[38;5;124m\"\u001b[39m)\n\u001b[0;32m   1086\u001b[0m     formatter \u001b[38;5;241m=\u001b[39m fmt\u001b[38;5;241m.\u001b[39mDataFrameFormatter(\n\u001b[0;32m   1087\u001b[0m         \u001b[38;5;28mself\u001b[39m,\n\u001b[0;32m   1088\u001b[0m         columns\u001b[38;5;241m=\u001b[39m\u001b[38;5;28;01mNone\u001b[39;00m,\n\u001b[1;32m   (...)\u001b[0m\n\u001b[0;32m   1104\u001b[0m         decimal\u001b[38;5;241m=\u001b[39m\u001b[38;5;124m\"\u001b[39m\u001b[38;5;124m.\u001b[39m\u001b[38;5;124m\"\u001b[39m,\n\u001b[0;32m   1105\u001b[0m     )\n\u001b[1;32m-> 1106\u001b[0m     \u001b[38;5;28;01mreturn\u001b[39;00m \u001b[43mfmt\u001b[49m\u001b[38;5;241;43m.\u001b[39;49m\u001b[43mDataFrameRenderer\u001b[49m\u001b[43m(\u001b[49m\u001b[43mformatter\u001b[49m\u001b[43m)\u001b[49m\u001b[38;5;241;43m.\u001b[39;49m\u001b[43mto_html\u001b[49m\u001b[43m(\u001b[49m\u001b[43mnotebook\u001b[49m\u001b[38;5;241;43m=\u001b[39;49m\u001b[38;5;28;43;01mTrue\u001b[39;49;00m\u001b[43m)\u001b[49m\n\u001b[0;32m   1107\u001b[0m \u001b[38;5;28;01melse\u001b[39;00m:\n\u001b[0;32m   1108\u001b[0m     \u001b[38;5;28;01mreturn\u001b[39;00m \u001b[38;5;28;01mNone\u001b[39;00m\n",
      "File \u001b[1;32mc:\\python\\lib\\site-packages\\pandas\\io\\formats\\format.py:1110\u001b[0m, in \u001b[0;36mto_html\u001b[1;34m(self, buf, encoding, classes, notebook, border, table_id, render_links)\u001b[0m\n\u001b[0;32m   1079\u001b[0m \u001b[38;5;28;01mdef\u001b[39;00m\u001b[38;5;250m \u001b[39m\u001b[38;5;21mformat_array\u001b[39m(\n\u001b[0;32m   1080\u001b[0m     values: ArrayLike,\n\u001b[0;32m   1081\u001b[0m     formatter: Callable \u001b[38;5;241m|\u001b[39m \u001b[38;5;28;01mNone\u001b[39;00m,\n\u001b[1;32m   (...)\u001b[0m\n\u001b[0;32m   1090\u001b[0m     fallback_formatter: Callable \u001b[38;5;241m|\u001b[39m \u001b[38;5;28;01mNone\u001b[39;00m \u001b[38;5;241m=\u001b[39m \u001b[38;5;28;01mNone\u001b[39;00m,\n\u001b[0;32m   1091\u001b[0m ) \u001b[38;5;241m-\u001b[39m\u001b[38;5;241m>\u001b[39m \u001b[38;5;28mlist\u001b[39m[\u001b[38;5;28mstr\u001b[39m]:\n\u001b[0;32m   1092\u001b[0m \u001b[38;5;250m    \u001b[39m\u001b[38;5;124;03m\"\"\"\u001b[39;00m\n\u001b[0;32m   1093\u001b[0m \u001b[38;5;124;03m    Format an array for printing.\u001b[39;00m\n\u001b[0;32m   1094\u001b[0m \n\u001b[0;32m   1095\u001b[0m \u001b[38;5;124;03m    Parameters\u001b[39;00m\n\u001b[0;32m   1096\u001b[0m \u001b[38;5;124;03m    ----------\u001b[39;00m\n\u001b[0;32m   1097\u001b[0m \u001b[38;5;124;03m    values : np.ndarray or ExtensionArray\u001b[39;00m\n\u001b[0;32m   1098\u001b[0m \u001b[38;5;124;03m    formatter\u001b[39;00m\n\u001b[0;32m   1099\u001b[0m \u001b[38;5;124;03m    float_format\u001b[39;00m\n\u001b[0;32m   1100\u001b[0m \u001b[38;5;124;03m    na_rep\u001b[39;00m\n\u001b[0;32m   1101\u001b[0m \u001b[38;5;124;03m    digits\u001b[39;00m\n\u001b[0;32m   1102\u001b[0m \u001b[38;5;124;03m    space\u001b[39;00m\n\u001b[0;32m   1103\u001b[0m \u001b[38;5;124;03m    justify\u001b[39;00m\n\u001b[0;32m   1104\u001b[0m \u001b[38;5;124;03m    decimal\u001b[39;00m\n\u001b[0;32m   1105\u001b[0m \u001b[38;5;124;03m    leading_space : bool, optional, default True\u001b[39;00m\n\u001b[0;32m   1106\u001b[0m \u001b[38;5;124;03m        Whether the array should be formatted with a leading space.\u001b[39;00m\n\u001b[0;32m   1107\u001b[0m \u001b[38;5;124;03m        When an array as a column of a Series or DataFrame, we do want\u001b[39;00m\n\u001b[0;32m   1108\u001b[0m \u001b[38;5;124;03m        the leading space to pad between columns.\u001b[39;00m\n\u001b[0;32m   1109\u001b[0m \n\u001b[1;32m-> 1110\u001b[0m \u001b[38;5;124;03m        When formatting an Index subclass\u001b[39;00m\n\u001b[0;32m   1111\u001b[0m \u001b[38;5;124;03m        (e.g. IntervalIndex._get_values_for_csv), we don't want the\u001b[39;00m\n\u001b[0;32m   1112\u001b[0m \u001b[38;5;124;03m        leading space since it should be left-aligned.\u001b[39;00m\n\u001b[0;32m   1113\u001b[0m \u001b[38;5;124;03m    fallback_formatter\u001b[39;00m\n\u001b[0;32m   1114\u001b[0m \n\u001b[0;32m   1115\u001b[0m \u001b[38;5;124;03m    Returns\u001b[39;00m\n\u001b[0;32m   1116\u001b[0m \u001b[38;5;124;03m    -------\u001b[39;00m\n\u001b[0;32m   1117\u001b[0m \u001b[38;5;124;03m    List[str]\u001b[39;00m\n\u001b[0;32m   1118\u001b[0m \u001b[38;5;124;03m    \"\"\"\u001b[39;00m\n\u001b[0;32m   1119\u001b[0m     fmt_klass: \u001b[38;5;28mtype\u001b[39m[_GenericArrayFormatter]\n\u001b[0;32m   1120\u001b[0m     \u001b[38;5;28;01mif\u001b[39;00m lib\u001b[38;5;241m.\u001b[39mis_np_dtype(values\u001b[38;5;241m.\u001b[39mdtype, \u001b[38;5;124m\"\u001b[39m\u001b[38;5;124mM\u001b[39m\u001b[38;5;124m\"\u001b[39m):\n",
      "File \u001b[1;32mc:\\python\\lib\\site-packages\\pandas\\io\\formats\\html.py:88\u001b[0m, in \u001b[0;36mHTMLFormatter.to_string\u001b[1;34m(self)\u001b[0m\n\u001b[0;32m     87\u001b[0m \u001b[38;5;28;01mdef\u001b[39;00m\u001b[38;5;250m \u001b[39m\u001b[38;5;21mto_string\u001b[39m(\u001b[38;5;28mself\u001b[39m) \u001b[38;5;241m-\u001b[39m\u001b[38;5;241m>\u001b[39m \u001b[38;5;28mstr\u001b[39m:\n\u001b[1;32m---> 88\u001b[0m     lines \u001b[38;5;241m=\u001b[39m \u001b[38;5;28;43mself\u001b[39;49m\u001b[38;5;241;43m.\u001b[39;49m\u001b[43mrender\u001b[49m\u001b[43m(\u001b[49m\u001b[43m)\u001b[49m\n\u001b[0;32m     89\u001b[0m     \u001b[38;5;28;01mif\u001b[39;00m \u001b[38;5;28many\u001b[39m(\u001b[38;5;28misinstance\u001b[39m(x, \u001b[38;5;28mstr\u001b[39m) \u001b[38;5;28;01mfor\u001b[39;00m x \u001b[38;5;129;01min\u001b[39;00m lines):\n\u001b[0;32m     90\u001b[0m         lines \u001b[38;5;241m=\u001b[39m [\u001b[38;5;28mstr\u001b[39m(x) \u001b[38;5;28;01mfor\u001b[39;00m x \u001b[38;5;129;01min\u001b[39;00m lines]\n",
      "File \u001b[1;32mc:\\python\\lib\\site-packages\\pandas\\io\\formats\\html.py:644\u001b[0m, in \u001b[0;36mNotebookFormatter.render\u001b[1;34m(self)\u001b[0m\n\u001b[0;32m    642\u001b[0m \u001b[38;5;28mself\u001b[39m\u001b[38;5;241m.\u001b[39mwrite(\u001b[38;5;124m\"\u001b[39m\u001b[38;5;124m<div>\u001b[39m\u001b[38;5;124m\"\u001b[39m)\n\u001b[0;32m    643\u001b[0m \u001b[38;5;28mself\u001b[39m\u001b[38;5;241m.\u001b[39mwrite_style()\n\u001b[1;32m--> 644\u001b[0m \u001b[38;5;28;43msuper\u001b[39;49m\u001b[43m(\u001b[49m\u001b[43m)\u001b[49m\u001b[38;5;241;43m.\u001b[39;49m\u001b[43mrender\u001b[49m\u001b[43m(\u001b[49m\u001b[43m)\u001b[49m\n\u001b[0;32m    645\u001b[0m \u001b[38;5;28mself\u001b[39m\u001b[38;5;241m.\u001b[39mwrite(\u001b[38;5;124m\"\u001b[39m\u001b[38;5;124m</div>\u001b[39m\u001b[38;5;124m\"\u001b[39m)\n\u001b[0;32m    646\u001b[0m \u001b[38;5;28;01mreturn\u001b[39;00m \u001b[38;5;28mself\u001b[39m\u001b[38;5;241m.\u001b[39melements\n",
      "File \u001b[1;32mc:\\python\\lib\\site-packages\\pandas\\io\\formats\\html.py:94\u001b[0m, in \u001b[0;36mHTMLFormatter.render\u001b[1;34m(self)\u001b[0m\n\u001b[0;32m     93\u001b[0m \u001b[38;5;28;01mdef\u001b[39;00m\u001b[38;5;250m \u001b[39m\u001b[38;5;21mrender\u001b[39m(\u001b[38;5;28mself\u001b[39m) \u001b[38;5;241m-\u001b[39m\u001b[38;5;241m>\u001b[39m \u001b[38;5;28mlist\u001b[39m[\u001b[38;5;28mstr\u001b[39m]:\n\u001b[1;32m---> 94\u001b[0m     \u001b[38;5;28;43mself\u001b[39;49m\u001b[38;5;241;43m.\u001b[39;49m\u001b[43m_write_table\u001b[49m\u001b[43m(\u001b[49m\u001b[43m)\u001b[49m\n\u001b[0;32m     96\u001b[0m     \u001b[38;5;28;01mif\u001b[39;00m \u001b[38;5;28mself\u001b[39m\u001b[38;5;241m.\u001b[39mshould_show_dimensions:\n\u001b[0;32m     97\u001b[0m         by \u001b[38;5;241m=\u001b[39m \u001b[38;5;28mchr\u001b[39m(\u001b[38;5;241m215\u001b[39m)  \u001b[38;5;66;03m# ×  # noqa: RUF003\u001b[39;00m\n",
      "File \u001b[1;32mc:\\python\\lib\\site-packages\\pandas\\io\\formats\\html.py:267\u001b[0m, in \u001b[0;36mHTMLFormatter._write_table\u001b[1;34m(self, indent)\u001b[0m\n\u001b[0;32m    261\u001b[0m \u001b[38;5;28mself\u001b[39m\u001b[38;5;241m.\u001b[39mwrite(\n\u001b[0;32m    262\u001b[0m     \u001b[38;5;124mf\u001b[39m\u001b[38;5;124m'\u001b[39m\u001b[38;5;124m<table\u001b[39m\u001b[38;5;132;01m{\u001b[39;00mborder_attr\u001b[38;5;132;01m}\u001b[39;00m\u001b[38;5;124m class=\u001b[39m\u001b[38;5;124m\"\u001b[39m\u001b[38;5;132;01m{\u001b[39;00m\u001b[38;5;124m\"\u001b[39m\u001b[38;5;124m \u001b[39m\u001b[38;5;124m\"\u001b[39m\u001b[38;5;241m.\u001b[39mjoin(_classes)\u001b[38;5;132;01m}\u001b[39;00m\u001b[38;5;124m\"\u001b[39m\u001b[38;5;132;01m{\u001b[39;00mid_section\u001b[38;5;132;01m}\u001b[39;00m\u001b[38;5;124m>\u001b[39m\u001b[38;5;124m'\u001b[39m,\n\u001b[0;32m    263\u001b[0m     indent,\n\u001b[0;32m    264\u001b[0m )\n\u001b[0;32m    266\u001b[0m \u001b[38;5;28;01mif\u001b[39;00m \u001b[38;5;28mself\u001b[39m\u001b[38;5;241m.\u001b[39mfmt\u001b[38;5;241m.\u001b[39mheader \u001b[38;5;129;01mor\u001b[39;00m \u001b[38;5;28mself\u001b[39m\u001b[38;5;241m.\u001b[39mshow_row_idx_names:\n\u001b[1;32m--> 267\u001b[0m     \u001b[38;5;28;43mself\u001b[39;49m\u001b[38;5;241;43m.\u001b[39;49m\u001b[43m_write_header\u001b[49m\u001b[43m(\u001b[49m\u001b[43mindent\u001b[49m\u001b[43m \u001b[49m\u001b[38;5;241;43m+\u001b[39;49m\u001b[43m \u001b[49m\u001b[38;5;28;43mself\u001b[39;49m\u001b[38;5;241;43m.\u001b[39;49m\u001b[43mindent_delta\u001b[49m\u001b[43m)\u001b[49m\n\u001b[0;32m    269\u001b[0m \u001b[38;5;28mself\u001b[39m\u001b[38;5;241m.\u001b[39m_write_body(indent \u001b[38;5;241m+\u001b[39m \u001b[38;5;28mself\u001b[39m\u001b[38;5;241m.\u001b[39mindent_delta)\n\u001b[0;32m    271\u001b[0m \u001b[38;5;28mself\u001b[39m\u001b[38;5;241m.\u001b[39mwrite(\u001b[38;5;124m\"\u001b[39m\u001b[38;5;124m</table>\u001b[39m\u001b[38;5;124m\"\u001b[39m, indent)\n",
      "File \u001b[1;32mc:\\python\\lib\\site-packages\\pandas\\io\\formats\\html.py:403\u001b[0m, in \u001b[0;36mHTMLFormatter._write_header\u001b[1;34m(self, indent)\u001b[0m\n\u001b[0;32m    400\u001b[0m \u001b[38;5;28mself\u001b[39m\u001b[38;5;241m.\u001b[39mwrite(\u001b[38;5;124m\"\u001b[39m\u001b[38;5;124m<thead>\u001b[39m\u001b[38;5;124m\"\u001b[39m, indent)\n\u001b[0;32m    402\u001b[0m \u001b[38;5;28;01mif\u001b[39;00m \u001b[38;5;28mself\u001b[39m\u001b[38;5;241m.\u001b[39mfmt\u001b[38;5;241m.\u001b[39mheader:\n\u001b[1;32m--> 403\u001b[0m     \u001b[38;5;28;43mself\u001b[39;49m\u001b[38;5;241;43m.\u001b[39;49m\u001b[43m_write_col_header\u001b[49m\u001b[43m(\u001b[49m\u001b[43mindent\u001b[49m\u001b[43m \u001b[49m\u001b[38;5;241;43m+\u001b[39;49m\u001b[43m \u001b[49m\u001b[38;5;28;43mself\u001b[39;49m\u001b[38;5;241;43m.\u001b[39;49m\u001b[43mindent_delta\u001b[49m\u001b[43m)\u001b[49m\n\u001b[0;32m    405\u001b[0m \u001b[38;5;28;01mif\u001b[39;00m \u001b[38;5;28mself\u001b[39m\u001b[38;5;241m.\u001b[39mshow_row_idx_names:\n\u001b[0;32m    406\u001b[0m     \u001b[38;5;28mself\u001b[39m\u001b[38;5;241m.\u001b[39m_write_row_header(indent \u001b[38;5;241m+\u001b[39m \u001b[38;5;28mself\u001b[39m\u001b[38;5;241m.\u001b[39mindent_delta)\n",
      "File \u001b[1;32mc:\\python\\lib\\site-packages\\pandas\\io\\formats\\html.py:383\u001b[0m, in \u001b[0;36mHTMLFormatter._write_col_header\u001b[1;34m(self, indent)\u001b[0m\n\u001b[0;32m    381\u001b[0m     \u001b[38;5;28;01melse\u001b[39;00m:\n\u001b[0;32m    382\u001b[0m         row\u001b[38;5;241m.\u001b[39mappend(\u001b[38;5;124m\"\u001b[39m\u001b[38;5;124m\"\u001b[39m)\n\u001b[1;32m--> 383\u001b[0m row\u001b[38;5;241m.\u001b[39mextend(\u001b[38;5;28;43mself\u001b[39;49m\u001b[38;5;241;43m.\u001b[39;49m\u001b[43m_get_columns_formatted_values\u001b[49m\u001b[43m(\u001b[49m\u001b[43m)\u001b[49m)\n\u001b[0;32m    384\u001b[0m align \u001b[38;5;241m=\u001b[39m \u001b[38;5;28mself\u001b[39m\u001b[38;5;241m.\u001b[39mfmt\u001b[38;5;241m.\u001b[39mjustify\n\u001b[0;32m    386\u001b[0m \u001b[38;5;28;01mif\u001b[39;00m is_truncated_horizontally:\n",
      "File \u001b[1;32mc:\\python\\lib\\site-packages\\pandas\\io\\formats\\html.py:611\u001b[0m, in \u001b[0;36mNotebookFormatter._get_columns_formatted_values\u001b[1;34m(self)\u001b[0m\n\u001b[0;32m    609\u001b[0m \u001b[38;5;28;01mdef\u001b[39;00m\u001b[38;5;250m \u001b[39m\u001b[38;5;21m_get_columns_formatted_values\u001b[39m(\u001b[38;5;28mself\u001b[39m) \u001b[38;5;241m-\u001b[39m\u001b[38;5;241m>\u001b[39m \u001b[38;5;28mlist\u001b[39m[\u001b[38;5;28mstr\u001b[39m]:\n\u001b[0;32m    610\u001b[0m     \u001b[38;5;66;03m# only reached with non-Multi Index\u001b[39;00m\n\u001b[1;32m--> 611\u001b[0m     \u001b[38;5;28;01mreturn\u001b[39;00m \u001b[38;5;28;43mself\u001b[39;49m\u001b[38;5;241;43m.\u001b[39;49m\u001b[43mcolumns\u001b[49m\u001b[38;5;241;43m.\u001b[39;49m\u001b[43m_format_flat\u001b[49m(include_name\u001b[38;5;241m=\u001b[39m\u001b[38;5;28;01mFalse\u001b[39;00m)\n",
      "\u001b[1;31mAttributeError\u001b[0m: 'Index' object has no attribute '_format_flat'"
     ]
    },
    {
     "data": {
      "text/plain": [
       "         ship_type  ship_id_numeric  month_numeric     route_id     distance  \\\n",
       "count  1440.000000      1440.000000    1440.000000  1440.000000  1440.000000   \n",
       "mean      1.583333        59.500000       6.500000     1.422222   151.753354   \n",
       "std       1.107809        34.651847       3.453252     1.079627   108.472230   \n",
       "min       0.000000         0.000000       1.000000     0.000000    20.080000   \n",
       "25%       1.000000        29.750000       3.750000     0.000000    79.002500   \n",
       "50%       2.000000        59.500000       6.500000     1.000000   123.465000   \n",
       "75%       3.000000        89.250000       9.250000     2.000000   180.780000   \n",
       "max       3.000000       119.000000      12.000000     3.000000   498.550000   \n",
       "\n",
       "         fuel_type  fuel_consumption  CO2_emissions  weather_conditions  \\\n",
       "count  1440.000000       1440.000000    1440.000000         1440.000000   \n",
       "mean      0.375694       4844.246535   13365.454882            0.962500   \n",
       "std       0.484470       4892.352813   13567.650118            0.823548   \n",
       "min       0.000000        237.880000     615.680000            0.000000   \n",
       "25%       0.000000       1837.962500    4991.485000            0.000000   \n",
       "50%       0.000000       3060.880000    8423.255000            1.000000   \n",
       "75%       1.000000       4870.675000   13447.120000            2.000000   \n",
       "max       1.000000      24648.520000   71871.210000            2.000000   \n",
       "\n",
       "       engine_efficiency  \n",
       "count        1440.000000  \n",
       "mean           82.582924  \n",
       "std             7.158289  \n",
       "min            70.010000  \n",
       "25%            76.255000  \n",
       "50%            82.775000  \n",
       "75%            88.862500  \n",
       "max            94.980000  "
      ]
     },
     "execution_count": 23,
     "metadata": {},
     "output_type": "execute_result"
    }
   ],
   "source": [
    "import pandas as pd\n",
    "\n",
    "# Load dataset\n",
    "df = pd.read_csv(\"ship_fuel_efficiency_numeric.csv\")\n",
    "\n",
    "# Summary statistics for numerical columns\n",
    "df.describe()\n"
   ]
  }
 ],
 "metadata": {
  "kernelspec": {
   "display_name": "Python 3",
   "language": "python",
   "name": "python3"
  },
  "language_info": {
   "codemirror_mode": {
    "name": "ipython",
    "version": 3
   },
   "file_extension": ".py",
   "mimetype": "text/x-python",
   "name": "python",
   "nbconvert_exporter": "python",
   "pygments_lexer": "ipython3",
   "version": "3.9.13"
  }
 },
 "nbformat": 4,
 "nbformat_minor": 2
}
