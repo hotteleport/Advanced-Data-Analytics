{
 "cells": [
  {
   "cell_type": "markdown",
   "metadata": {},
   "source": [
    "0.0 - 0.1 → Very weak or no correlation.\n",
    "0.1 - 0.3 → Weak correlation.\n",
    "0.3 - 0.5 → Moderate correlation.\n",
    "0.5 - 0.7 → Strong correlation.\n",
    "0.7 - 1.0 → Very strong correlation."
   ]
  },
  {
   "cell_type": "code",
   "execution_count": 4,
   "metadata": {},
   "outputs": [
    {
     "name": "stdout",
     "output_type": "stream",
     "text": [
      "interval columns not set, guessing: ['ship_type', 'ship_id_numeric', 'month_numeric', 'route_id', 'distance', 'fuel_type', 'fuel_consumption', 'CO2_emissions', 'weather_conditions', 'engine_efficiency']\n",
      "                    ship_type  ship_id_numeric  month_numeric  route_id  \\\n",
      "ship_type            1.000000         0.354156       0.000000  0.000000   \n",
      "ship_id_numeric      0.354156         1.000000       0.000000  0.000000   \n",
      "month_numeric        0.000000         0.000000       1.000000  0.041415   \n",
      "route_id             0.000000         0.000000       0.041415  1.000000   \n",
      "distance             0.662224         0.092836       0.000000  0.106786   \n",
      "fuel_type            0.603792         0.193443       0.095665  0.000000   \n",
      "fuel_consumption     0.725164         0.220611       0.000000  0.073588   \n",
      "CO2_emissions        0.718027         0.195172       0.000000  0.031751   \n",
      "weather_conditions   0.010799         0.076897       0.040312  0.000000   \n",
      "engine_efficiency    0.000000         0.000000       0.000000  0.000000   \n",
      "\n",
      "                    distance  fuel_type  fuel_consumption  CO2_emissions  \\\n",
      "ship_type           0.662224   0.603792          0.725164       0.718027   \n",
      "ship_id_numeric     0.092836   0.193443          0.220611       0.195172   \n",
      "month_numeric       0.000000   0.095665          0.000000       0.000000   \n",
      "route_id            0.106786   0.000000          0.073588       0.031751   \n",
      "distance            1.000000   0.163190          0.904181       0.896893   \n",
      "fuel_type           0.163190   1.000000          0.289551       0.269866   \n",
      "fuel_consumption    0.904181   0.289551          1.000000       0.981932   \n",
      "CO2_emissions       0.896893   0.269866          0.981932       1.000000   \n",
      "weather_conditions  0.068852   0.038258          0.026331       0.000000   \n",
      "engine_efficiency   0.048918   0.000000          0.000000       0.000000   \n",
      "\n",
      "                    weather_conditions  engine_efficiency  \n",
      "ship_type                     0.010799           0.000000  \n",
      "ship_id_numeric               0.076897           0.000000  \n",
      "month_numeric                 0.040312           0.000000  \n",
      "route_id                      0.000000           0.000000  \n",
      "distance                      0.068852           0.048918  \n",
      "fuel_type                     0.038258           0.000000  \n",
      "fuel_consumption              0.026331           0.000000  \n",
      "CO2_emissions                 0.000000           0.000000  \n",
      "weather_conditions            1.000000           0.062222  \n",
      "engine_efficiency             0.062222           1.000000  \n"
     ]
    }
   ],
   "source": [
    "import pandas as pd\n",
    "from phik import resources, report\n",
    "\n",
    "df = pd.read_csv(\"ship_fuel_efficiency_numeric.csv\")\n",
    "phik_corr = df.phik_matrix()\n",
    "print(phik_corr)\n"
   ]
  }
 ],
 "metadata": {
  "kernelspec": {
   "display_name": "Python 3",
   "language": "python",
   "name": "python3"
  },
  "language_info": {
   "codemirror_mode": {
    "name": "ipython",
    "version": 3
   },
   "file_extension": ".py",
   "mimetype": "text/x-python",
   "name": "python",
   "nbconvert_exporter": "python",
   "pygments_lexer": "ipython3",
   "version": "3.9.13"
  }
 },
 "nbformat": 4,
 "nbformat_minor": 2
}
