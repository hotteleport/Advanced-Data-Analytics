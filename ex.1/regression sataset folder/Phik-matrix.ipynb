{
 "cells": [
  {
   "cell_type": "code",
   "execution_count": null,
   "metadata": {},
   "outputs": [],
   "source": [
    "import pandas as pd\n",
    "from phik import resources, report\n",
    "\n",
    "df = pd.read_csv(\"your_file.csv\")\n",
    "phik_corr = df.phik_matrix()\n",
    "print(phik_corr)\n"
   ]
  }
 ],
 "metadata": {
  "language_info": {
   "name": "python"
  }
 },
 "nbformat": 4,
 "nbformat_minor": 2
}
