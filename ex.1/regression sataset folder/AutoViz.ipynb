{
 "cells": [
  {
   "cell_type": "code",
   "execution_count": null,
   "metadata": {},
   "outputs": [],
   "source": [
    "from autoviz.AutoViz_Class import AutoViz\n",
    "AV = AutoViz()\n",
    "\n",
    "df = pd.read_csv(\"your_file.csv\")\n",
    "AV.AutoViz(filename=\"\", dfte=df)"
   ]
  }
 ],
 "metadata": {
  "language_info": {
   "name": "python"
  }
 },
 "nbformat": 4,
 "nbformat_minor": 2
}
