{
 "cells": [
  {
   "cell_type": "code",
   "execution_count": null,
   "metadata": {},
   "outputs": [],
   "source": [
    "from dataprep.eda import create_report\n",
    "import pandas as pd\n",
    "\n",
    "df = pd.read_csv(\"ship_fuel_efficiency_numeric.csv\")\n",
    "report = create_report(df)\n",
    "report.show_browser()  \n"
   ]
  }
 ],
 "metadata": {
  "language_info": {
   "name": "python"
  }
 },
 "nbformat": 4,
 "nbformat_minor": 2
}
