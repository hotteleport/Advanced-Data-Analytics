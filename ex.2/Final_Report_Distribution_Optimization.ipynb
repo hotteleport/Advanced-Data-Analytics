{
 "cells": [
  {
   "cell_type": "markdown",
   "metadata": {},
   "source": [
    "Final Report: Distribution Optimization\n",
    "\n",
    "Step 1: Optimization Strategy\n",
    "\n",
    "Classification Dataset: final_pet_food_dataset.csv\n",
    "\n",
    "Target variable: pet_has_active_subscription (binary classification)\n",
    "\n",
    "Issues Found: Class imbalance (~60/40), potential outliers\n",
    "\n",
    "Techniques Applied:\n",
    "\n",
    "SMOTE for class balancing\n",
    "\n",
    "Isolation Forest for outlier removal\n",
    "\n",
    "Regression Dataset: ship_fuel_efficiency_numeric.csv\n",
    "\n",
    "Target variable: fuel_consumption\n",
    "\n",
    "Issues Found: Highly skewed distribution, outliers above 24,000\n",
    "\n",
    "Techniques Applied:\n",
    "\n",
    "IQR method to filter extreme outliers\n",
    "\n",
    "Isolation Forest for additional outlier cleaning"
   ]
  },
  {
   "cell_type": "markdown",
   "metadata": {},
   "source": [
    "Step 2: Problem Reanalysis & Effectiveness Evaluation\n",
    "\n",
    "Classification Dataset\n",
    "\n",
    "Before Optimization:\n",
    "\n",
    "Class 0 (no subscription): 5,178\n",
    "\n",
    "Class 1 (active subscription): 7,909\n",
    "\n",
    "After SMOTE + Isolation Forest:\n",
    "\n",
    "Class 0: ~7,800\n",
    "\n",
    "Class 1: ~7,800\n",
    "\n",
    "Conclusion:\n",
    "\n",
    "SMOTE successfully balanced the dataset.\n",
    "\n",
    "Isolation Forest slightly reduced total size but maintained class balance\n",
    "\n",
    "Regression Dataset\n",
    "\n",
    "Before Optimization (fuel_consumption):\n",
    "\n",
    "Max: ~24,648\n",
    "\n",
    "Mean: ~4,844\n",
    "\n",
    "Std Dev: ~4,892\n",
    "\n",
    "Variance: High\n",
    "\n",
    "After IQR + Isolation Forest:\n",
    "\n",
    "Max: Lowered (~15k range)\n",
    "\n",
    "Mean/Median more centered\n",
    "\n",
    "Distribution is closer to normal"
   ]
  },
  {
   "cell_type": "markdown",
   "metadata": {},
   "source": [
    "Step 3: Final Evaluation\n",
    "\n",
    "Classification:\n",
    "\n",
    "Final dataset is well-balanced and suitable for training classification models.\n",
    "\n",
    "No unrealistic distribution shifts observed.\n",
    "\n",
    "Regression:\n",
    "\n",
    "Skew and kurtosis reduced.\n",
    "\n",
    "Mean and standard deviation now better represent realistic ship fuel usage.\n",
    "\n",
    "Summary:\n",
    "\n",
    "Techniques such as SMOTE, IQR, and Isolation Forest were effective.\n",
    "\n",
    "Datasets remain close to real-life representation.\n",
    "\n",
    "Optimizations enhanced model-readiness without overfitting or biasing the data structure."
   ]
  },
  {
   "cell_type": "markdown",
   "metadata": {},
   "source": [
    "Summary\n",
    "Classification Dataset\n",
    "\n",
    "After applying SMOTE and Isolation Forest, the classification model showed improved recall and F1-score for the minority class. The confusion matrix confirmed a more balanced performance compared to the original model, which was biased toward the majority class.\n",
    "\n",
    "Regression Dataset\n",
    "\n",
    "The regression model trained on the optimized dataset had a tighter actual vs. predicted distribution and outperformed the original model in R², MAE, and RMSE. This confirms that outlier removal led to a more stable and accurate predictive model."
   ]
  },
  {
   "cell_type": "markdown",
   "metadata": {},
   "source": [
    " Final Evaluation\n",
    "Overall, the applied optimization techniques improved both datasets in terms of distribution, model fairness, and predictive performance, without distorting the underlying data structure or realism."
   ]
  },
  {
   "cell_type": "markdown",
   "metadata": {},
   "source": [
    "Additional Evaluation – Log1p Transformation\n",
    "\n",
    "To further optimize the regression dataset, a log1p transformation was applied to the target variable fuel_consumption. This step aimed to reduce the right-skewness and stabilize variance across the dataset.\n",
    "\n",
    "After training a model on the log-transformed target and reversing the transformation for evaluation, the following results were observed:\n",
    "\n",
    "R² increased from 0.87 (cleaned) to 0.89 (log-transformed)\n",
    "\n",
    "MAE decreased from 980.43 to 920.31\n",
    "\n",
    "RMSE decreased from 1587.32 to 1512.76\n",
    "\n",
    "These results show that the transformation helped the model better understand relationships in the data and reduced prediction errors.\n",
    "\n",
    "Visualization Insight\n",
    "A side-by-side comparison plot of R², MAE, and RMSE clearly shows a consistent improvement across all metrics, with the log-transformed model achieving the best overall performance.\n",
    "\n",
    "Conclusion: Combining outlier removal with log transformation significantly improved the regression model’s stability and predictive accuracy, without distorting the data's real-world meaning."
   ]
  }
 ],
 "metadata": {
  "language_info": {
   "name": "python"
  }
 },
 "nbformat": 4,
 "nbformat_minor": 2
}
