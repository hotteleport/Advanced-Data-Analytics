{
 "cells": [
  {
   "cell_type": "code",
   "execution_count": 2,
   "metadata": {},
   "outputs": [
    {
     "name": "stdout",
     "output_type": "stream",
     "text": [
      "Newly Created Features:\n",
      "   avg_minutes_per_session  total_engagement  user_cluster\n",
      "0                 6.000000                 1             0\n",
      "1                 1.500000                14             0\n",
      "2               205.000000                 3             0\n",
      "3               101.625000                 9             1\n",
      "4                 9.882353                17             1\n"
     ]
    }
   ],
   "source": [
    "import pandas as pd\n",
    "import numpy as np\n",
    "from sklearn.preprocessing import LabelEncoder\n",
    "from sklearn.cluster import KMeans\n",
    "\n",
    "# Load the classification dataset\n",
    "df = pd.read_csv(\"final_pet_food_dataset.csv\")\n",
    "\n",
    "# Encode categorical features\n",
    "df_encoded = df.copy()\n",
    "for col in df_encoded.select_dtypes(include='object').columns:\n",
    "    df_encoded[col] = LabelEncoder().fit_transform(df_encoded[col])\n",
    "\n",
    "# Feature Generation \n",
    "# Ratio Feature\n",
    "df_encoded[\"avg_minutes_per_session\"] = (\n",
    "    df_encoded[\"total_minutes_on_website\"] / (df_encoded[\"total_web_sessions\"] + 1)\n",
    ")\n",
    "\n",
    "# Additive Feature\n",
    "df_encoded[\"total_engagement\"] = (\n",
    "    df_encoded[\"total_web_sessions\"] + df_encoded[\"total_web_sessions_since_last_order\"]\n",
    ")\n",
    "\n",
    "# KMeans Clustering Feature\n",
    "kmeans = KMeans(n_clusters=3, random_state=42)\n",
    "cluster_features = df_encoded[[\"total_web_sessions\", \"total_minutes_on_website\", \"total_order_kcal\"]]\n",
    "df_encoded[\"user_cluster\"] = kmeans.fit_predict(cluster_features)\n",
    "\n",
    "# View new features\n",
    "print(\"Newly Created Features:\")\n",
    "print(df_encoded[[\"avg_minutes_per_session\", \"total_engagement\", \"user_cluster\"]].head())\n",
    "\n",
    "# Optional: Save the new dataset\n",
    "df_encoded.to_csv(\"classification_with_generated_features.csv\", index=False)"
   ]
  },
  {
   "cell_type": "markdown",
   "metadata": {},
   "source": [
    "We engineered three new features to enhance model signal: a ratio-based engagement metric (avg_minutes_per_session), an additive session activity metric (total_engagement), and a behavior-based cluster label (user_cluster) via KMeans. These features capture complex user behavior and can improve model interpretability and performance."
   ]
  }
 ],
 "metadata": {
  "kernelspec": {
   "display_name": "Python 3",
   "language": "python",
   "name": "python3"
  },
  "language_info": {
   "codemirror_mode": {
    "name": "ipython",
    "version": 3
   },
   "file_extension": ".py",
   "mimetype": "text/x-python",
   "name": "python",
   "nbconvert_exporter": "python",
   "pygments_lexer": "ipython3",
   "version": "3.9.13"
  }
 },
 "nbformat": 4,
 "nbformat_minor": 2
}
